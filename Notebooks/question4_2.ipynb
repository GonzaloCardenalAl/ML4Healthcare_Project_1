{
 "cells": [
  {
   "cell_type": "code",
   "execution_count": null,
   "metadata": {},
   "outputs": [
    {
     "name": "stderr",
     "output_type": "stream",
     "text": [
      "/opt/anaconda3/envs/ollama_env/lib/python3.12/site-packages/tqdm/auto.py:21: TqdmWarning: IProgress not found. Please update jupyter and ipywidgets. See https://ipywidgets.readthedocs.io/en/stable/user_install.html\n",
      "  from .autonotebook import tqdm as notebook_tqdm\n"
     ]
    }
   ],
   "source": [
    "import json\n",
    "import numpy as np\n",
    "import pandas as pd\n",
    "from sklearn.model_selection import GridSearchCV\n",
    "from sklearn.linear_model import LogisticRegression\n",
    "from sklearn.metrics import make_scorer, roc_auc_score, average_precision_score\n",
    "from sklearn.cluster import KMeans\n",
    "import matplotlib.pyplot as plt\n",
    "from sklearn.manifold import TSNE\n",
    "import seaborn as sns\n",
    "import umap.umap_ as umap"
   ]
  },
  {
   "cell_type": "markdown",
   "metadata": {},
   "source": [
    "We first ran the `llm-embeddings.sh` on the cluster."
   ]
  },
  {
   "cell_type": "code",
   "execution_count": 2,
   "metadata": {},
   "outputs": [],
   "source": [
    "X_train = np.load('llama_input_train_embeddings.npy')\n",
    "y_train = np.load('y_train.npy')\n",
    "\n",
    "X_val = np.load('llama_input_val_embeddings.npy')\n",
    "y_val = np.load('y_val.npy')\n",
    "\n",
    "X_test = np.load('llama_input_test_embeddings.npy')\n",
    "y_test = np.load('y_test.npy')\n"
   ]
  },
  {
   "cell_type": "code",
   "execution_count": 3,
   "metadata": {},
   "outputs": [
    {
     "name": "stdout",
     "output_type": "stream",
     "text": [
      "🔍 Tuning hyperparameters using validation AUROC:\n",
      "\n",
      "C=0.001, solver=lbfgs, penalty=l2, class_weight=None | AUROC: 0.7474 | AP: 0.3383\n",
      "C=0.001, solver=lbfgs, penalty=l2, class_weight=balanced | AUROC: 0.7518 | AP: 0.3428\n",
      "C=0.01, solver=lbfgs, penalty=l2, class_weight=None | AUROC: 0.7674 | AP: 0.3713\n",
      "C=0.01, solver=lbfgs, penalty=l2, class_weight=balanced | AUROC: 0.7753 | AP: 0.3765\n",
      "C=0.1, solver=lbfgs, penalty=l2, class_weight=None | AUROC: 0.7915 | AP: 0.4062\n",
      "C=0.1, solver=lbfgs, penalty=l2, class_weight=balanced | AUROC: 0.7942 | AP: 0.4079\n",
      "C=1, solver=lbfgs, penalty=l2, class_weight=None | AUROC: 0.7966 | AP: 0.4215\n",
      "C=1, solver=lbfgs, penalty=l2, class_weight=balanced | AUROC: 0.7910 | AP: 0.4096\n"
     ]
    },
    {
     "name": "stderr",
     "output_type": "stream",
     "text": [
      "/opt/anaconda3/envs/ollama_env/lib/python3.12/site-packages/sklearn/linear_model/_logistic.py:465: ConvergenceWarning: lbfgs failed to converge (status=1):\n",
      "STOP: TOTAL NO. OF ITERATIONS REACHED LIMIT.\n",
      "\n",
      "Increase the number of iterations (max_iter) or scale the data as shown in:\n",
      "    https://scikit-learn.org/stable/modules/preprocessing.html\n",
      "Please also refer to the documentation for alternative solver options:\n",
      "    https://scikit-learn.org/stable/modules/linear_model.html#logistic-regression\n",
      "  n_iter_i = _check_optimize_result(\n"
     ]
    },
    {
     "name": "stdout",
     "output_type": "stream",
     "text": [
      "C=10, solver=lbfgs, penalty=l2, class_weight=None | AUROC: 0.7625 | AP: 0.3780\n"
     ]
    },
    {
     "name": "stderr",
     "output_type": "stream",
     "text": [
      "/opt/anaconda3/envs/ollama_env/lib/python3.12/site-packages/sklearn/linear_model/_logistic.py:465: ConvergenceWarning: lbfgs failed to converge (status=1):\n",
      "STOP: TOTAL NO. OF ITERATIONS REACHED LIMIT.\n",
      "\n",
      "Increase the number of iterations (max_iter) or scale the data as shown in:\n",
      "    https://scikit-learn.org/stable/modules/preprocessing.html\n",
      "Please also refer to the documentation for alternative solver options:\n",
      "    https://scikit-learn.org/stable/modules/linear_model.html#logistic-regression\n",
      "  n_iter_i = _check_optimize_result(\n"
     ]
    },
    {
     "name": "stdout",
     "output_type": "stream",
     "text": [
      "C=10, solver=lbfgs, penalty=l2, class_weight=balanced | AUROC: 0.7531 | AP: 0.3635\n",
      "C=0.001, solver=saga, penalty=l1, class_weight=None | AUROC: 0.5000 | AP: 0.1420\n",
      "C=0.001, solver=saga, penalty=l1, class_weight=balanced | AUROC: 0.5000 | AP: 0.1420\n"
     ]
    },
    {
     "name": "stderr",
     "output_type": "stream",
     "text": [
      "/opt/anaconda3/envs/ollama_env/lib/python3.12/site-packages/sklearn/linear_model/_sag.py:348: ConvergenceWarning: The max_iter was reached which means the coef_ did not converge\n",
      "  warnings.warn(\n"
     ]
    },
    {
     "name": "stdout",
     "output_type": "stream",
     "text": [
      "C=0.01, solver=saga, penalty=l1, class_weight=None | AUROC: 0.5541 | AP: 0.1626\n"
     ]
    },
    {
     "name": "stderr",
     "output_type": "stream",
     "text": [
      "/opt/anaconda3/envs/ollama_env/lib/python3.12/site-packages/sklearn/linear_model/_sag.py:348: ConvergenceWarning: The max_iter was reached which means the coef_ did not converge\n",
      "  warnings.warn(\n"
     ]
    },
    {
     "name": "stdout",
     "output_type": "stream",
     "text": [
      "C=0.01, solver=saga, penalty=l1, class_weight=balanced | AUROC: 0.6750 | AP: 0.2660\n"
     ]
    },
    {
     "name": "stderr",
     "output_type": "stream",
     "text": [
      "/opt/anaconda3/envs/ollama_env/lib/python3.12/site-packages/sklearn/linear_model/_sag.py:348: ConvergenceWarning: The max_iter was reached which means the coef_ did not converge\n",
      "  warnings.warn(\n"
     ]
    },
    {
     "name": "stdout",
     "output_type": "stream",
     "text": [
      "C=0.1, solver=saga, penalty=l1, class_weight=None | AUROC: 0.7372 | AP: 0.3306\n"
     ]
    },
    {
     "name": "stderr",
     "output_type": "stream",
     "text": [
      "/opt/anaconda3/envs/ollama_env/lib/python3.12/site-packages/sklearn/linear_model/_sag.py:348: ConvergenceWarning: The max_iter was reached which means the coef_ did not converge\n",
      "  warnings.warn(\n"
     ]
    },
    {
     "name": "stdout",
     "output_type": "stream",
     "text": [
      "C=0.1, solver=saga, penalty=l1, class_weight=balanced | AUROC: 0.7594 | AP: 0.3491\n"
     ]
    },
    {
     "name": "stderr",
     "output_type": "stream",
     "text": [
      "/opt/anaconda3/envs/ollama_env/lib/python3.12/site-packages/sklearn/linear_model/_sag.py:348: ConvergenceWarning: The max_iter was reached which means the coef_ did not converge\n",
      "  warnings.warn(\n"
     ]
    },
    {
     "name": "stdout",
     "output_type": "stream",
     "text": [
      "C=1, solver=saga, penalty=l1, class_weight=None | AUROC: 0.7850 | AP: 0.3962\n"
     ]
    },
    {
     "name": "stderr",
     "output_type": "stream",
     "text": [
      "/opt/anaconda3/envs/ollama_env/lib/python3.12/site-packages/sklearn/linear_model/_sag.py:348: ConvergenceWarning: The max_iter was reached which means the coef_ did not converge\n",
      "  warnings.warn(\n"
     ]
    },
    {
     "name": "stdout",
     "output_type": "stream",
     "text": [
      "C=1, solver=saga, penalty=l1, class_weight=balanced | AUROC: 0.7918 | AP: 0.4033\n"
     ]
    },
    {
     "name": "stderr",
     "output_type": "stream",
     "text": [
      "/opt/anaconda3/envs/ollama_env/lib/python3.12/site-packages/sklearn/linear_model/_sag.py:348: ConvergenceWarning: The max_iter was reached which means the coef_ did not converge\n",
      "  warnings.warn(\n"
     ]
    },
    {
     "name": "stdout",
     "output_type": "stream",
     "text": [
      "C=10, solver=saga, penalty=l1, class_weight=None | AUROC: 0.7960 | AP: 0.4148\n"
     ]
    },
    {
     "name": "stderr",
     "output_type": "stream",
     "text": [
      "/opt/anaconda3/envs/ollama_env/lib/python3.12/site-packages/sklearn/linear_model/_sag.py:348: ConvergenceWarning: The max_iter was reached which means the coef_ did not converge\n",
      "  warnings.warn(\n"
     ]
    },
    {
     "name": "stdout",
     "output_type": "stream",
     "text": [
      "C=10, solver=saga, penalty=l1, class_weight=balanced | AUROC: 0.7960 | AP: 0.4135\n",
      "C=0.001, solver=saga, penalty=l2, class_weight=None | AUROC: 0.7472 | AP: 0.3393\n",
      "C=0.001, solver=saga, penalty=l2, class_weight=balanced | AUROC: 0.7517 | AP: 0.3427\n",
      "C=0.01, solver=saga, penalty=l2, class_weight=None | AUROC: 0.7675 | AP: 0.3717\n",
      "C=0.01, solver=saga, penalty=l2, class_weight=balanced | AUROC: 0.7752 | AP: 0.3766\n",
      "C=0.1, solver=saga, penalty=l2, class_weight=None | AUROC: 0.7908 | AP: 0.4050\n",
      "C=0.1, solver=saga, penalty=l2, class_weight=balanced | AUROC: 0.7939 | AP: 0.4065\n"
     ]
    },
    {
     "name": "stderr",
     "output_type": "stream",
     "text": [
      "/opt/anaconda3/envs/ollama_env/lib/python3.12/site-packages/sklearn/linear_model/_sag.py:348: ConvergenceWarning: The max_iter was reached which means the coef_ did not converge\n",
      "  warnings.warn(\n"
     ]
    },
    {
     "name": "stdout",
     "output_type": "stream",
     "text": [
      "C=1, solver=saga, penalty=l2, class_weight=None | AUROC: 0.7966 | AP: 0.4156\n"
     ]
    },
    {
     "name": "stderr",
     "output_type": "stream",
     "text": [
      "/opt/anaconda3/envs/ollama_env/lib/python3.12/site-packages/sklearn/linear_model/_sag.py:348: ConvergenceWarning: The max_iter was reached which means the coef_ did not converge\n",
      "  warnings.warn(\n"
     ]
    },
    {
     "name": "stdout",
     "output_type": "stream",
     "text": [
      "C=1, solver=saga, penalty=l2, class_weight=balanced | AUROC: 0.7963 | AP: 0.4134\n"
     ]
    },
    {
     "name": "stderr",
     "output_type": "stream",
     "text": [
      "/opt/anaconda3/envs/ollama_env/lib/python3.12/site-packages/sklearn/linear_model/_sag.py:348: ConvergenceWarning: The max_iter was reached which means the coef_ did not converge\n",
      "  warnings.warn(\n"
     ]
    },
    {
     "name": "stdout",
     "output_type": "stream",
     "text": [
      "C=10, solver=saga, penalty=l2, class_weight=None | AUROC: 0.7966 | AP: 0.4155\n",
      "C=10, solver=saga, penalty=l2, class_weight=balanced | AUROC: 0.7960 | AP: 0.4136\n",
      "\n",
      "✅ Best parameters found:\n",
      "  C: 10\n",
      "  solver: saga\n",
      "  penalty: l2\n",
      "  class_weight: None\n",
      "\n",
      "📊 Test AUROC: 0.8143\n",
      "📊 Test Average Precision: 0.4464\n"
     ]
    },
    {
     "name": "stderr",
     "output_type": "stream",
     "text": [
      "/opt/anaconda3/envs/ollama_env/lib/python3.12/site-packages/sklearn/linear_model/_sag.py:348: ConvergenceWarning: The max_iter was reached which means the coef_ did not converge\n",
      "  warnings.warn(\n"
     ]
    }
   ],
   "source": [
    "# === Hyperparameter grid ===\n",
    "C_values = [0.001, 0.01, 0.1, 1, 10]\n",
    "solvers = ['lbfgs', 'saga']\n",
    "penalties = ['l1', 'l2']\n",
    "class_weights = [None, 'balanced']\n",
    "\n",
    "best_auc = -1\n",
    "best_model = None\n",
    "best_params = {}\n",
    "\n",
    "print(\"🔍 Tuning hyperparameters using validation AUROC:\\n\")\n",
    "\n",
    "for solver in solvers:\n",
    "    for penalty in penalties:\n",
    "        for C in C_values:\n",
    "            for cw in class_weights:\n",
    "                # Not all solver-penalty combinations are valid\n",
    "                if solver in ['lbfgs'] and penalty == 'l1':\n",
    "                    continue\n",
    "                if solver == 'saga' and penalty not in ['l1', 'l2']:\n",
    "                    continue\n",
    "                if solver == 'liblinear' and penalty not in ['l1', 'l2']:\n",
    "                    continue\n",
    "\n",
    "                try:\n",
    "                    model = LogisticRegression(\n",
    "                        C=C,\n",
    "                        penalty=penalty,\n",
    "                        solver=solver,\n",
    "                        class_weight=cw,\n",
    "                        max_iter=1000\n",
    "                    )\n",
    "                    model.fit(X_train, y_train)\n",
    "                    val_probs = model.predict_proba(X_val)[:, 1]\n",
    "                    val_auc = roc_auc_score(y_val, val_probs)\n",
    "                    val_ap = average_precision_score(y_val, val_probs)\n",
    "\n",
    "                    print(f\"C={C}, solver={solver}, penalty={penalty}, class_weight={cw} | AUROC: {val_auc:.4f} | AP: {val_ap:.4f}\")\n",
    "\n",
    "                    if val_auc > best_auc:\n",
    "                        best_auc = val_auc\n",
    "                        best_model = model\n",
    "                        best_params = {\n",
    "                            'C': C,\n",
    "                            'solver': solver,\n",
    "                            'penalty': penalty,\n",
    "                            'class_weight': cw\n",
    "                        }\n",
    "                except Exception as e:\n",
    "                    print(f\"⚠️ Skipping invalid config: {e}\")\n",
    "\n",
    "# === Evaluate best model ===\n",
    "test_probs = best_model.predict_proba(X_test)[:, 1]\n",
    "test_auc = roc_auc_score(y_test, test_probs)\n",
    "test_ap = average_precision_score(y_test, test_probs)\n",
    "\n",
    "print(\"\\n✅ Best parameters found:\")\n",
    "for k, v in best_params.items():\n",
    "    print(f\"  {k}: {v}\")\n",
    "print(f\"\\n📊 Test AUROC: {test_auc:.4f}\")\n",
    "print(f\"📊 Test Average Precision: {test_ap:.4f}\")"
   ]
  },
  {
   "cell_type": "markdown",
   "metadata": {},
   "source": [
    "Tuning hyperparameters using validation AUROC using `liblinear` solver (program crashed, but here are the results):\n",
    "\n",
    "* C=0.001, solver=liblinear, penalty=l1, class_weight=None | AUROC: 0.5541 | AP: 0.1626\n",
    "* C=0.001, solver=liblinear, penalty=l1, class_weight=balanced | AUROC: 0.5000 | AP: 0.1420\n",
    "* C=0.01, solver=liblinear, penalty=l1, class_weight=None | AUROC: 0.5743 | AP: 0.1788\n",
    "* C=0.01, solver=liblinear, penalty=l1, class_weight=balanced | AUROC: 0.6832 | AP: 0.2741\n",
    "* C=0.1, solver=liblinear, penalty=l1, class_weight=None | AUROC: 0.7354 | AP: 0.3276\n",
    "* C=0.1, solver=liblinear, penalty=l1, class_weight=balanced | AUROC: 0.7614 | AP: 0.3505\n",
    "* C=1, solver=liblinear, penalty=l1, class_weight=None | AUROC: 0.7928 | AP: 0.4057\n",
    "* C=1, solver=liblinear, penalty=l1, class_weight=balanced | AUROC: 0.7924 | AP: 0.4084\n",
    "* C=10, solver=liblinear, penalty=l1, class_weight=None | AUROC: 0.7551 | AP: 0.3685"
   ]
  }
 ],
 "metadata": {
  "kernelspec": {
   "display_name": "ollama_env",
   "language": "python",
   "name": "python3"
  },
  "language_info": {
   "codemirror_mode": {
    "name": "ipython",
    "version": 3
   },
   "file_extension": ".py",
   "mimetype": "text/x-python",
   "name": "python",
   "nbconvert_exporter": "python",
   "pygments_lexer": "ipython3",
   "version": "3.12.2"
  }
 },
 "nbformat": 4,
 "nbformat_minor": 2
}
